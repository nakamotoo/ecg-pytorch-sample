{
 "cells": [
  {
   "cell_type": "code",
   "execution_count": 9,
   "metadata": {},
   "outputs": [],
   "source": [
    "import pandas as pd\n",
    "import numpy as np\n",
    "import os"
   ]
  },
  {
   "cell_type": "code",
   "execution_count": 10,
   "metadata": {},
   "outputs": [],
   "source": [
    "# ここを適宜変える\n",
    "csv_filename = \"SAMPLE.csv\"\n",
    "\n",
    "df = pd.read_csv(os.path.join(\"Labels\", csv_filename), index_col=0)"
   ]
  },
  {
   "cell_type": "code",
   "execution_count": 11,
   "metadata": {},
   "outputs": [
    {
     "data": {
      "text/html": [
       "<div>\n",
       "<style scoped>\n",
       "    .dataframe tbody tr th:only-of-type {\n",
       "        vertical-align: middle;\n",
       "    }\n",
       "\n",
       "    .dataframe tbody tr th {\n",
       "        vertical-align: top;\n",
       "    }\n",
       "\n",
       "    .dataframe thead th {\n",
       "        text-align: right;\n",
       "    }\n",
       "</style>\n",
       "<table border=\"1\" class=\"dataframe\">\n",
       "  <thead>\n",
       "    <tr style=\"text-align: right;\">\n",
       "      <th></th>\n",
       "      <th>patient_id</th>\n",
       "      <th>filename</th>\n",
       "      <th>age</th>\n",
       "      <th>sex</th>\n",
       "      <th>target</th>\n",
       "    </tr>\n",
       "  </thead>\n",
       "  <tbody>\n",
       "    <tr>\n",
       "      <td>0</td>\n",
       "      <td>xxxxxxxxxx</td>\n",
       "      <td>2019_00364.csv</td>\n",
       "      <td>20.0</td>\n",
       "      <td>女性</td>\n",
       "      <td>0</td>\n",
       "    </tr>\n",
       "    <tr>\n",
       "      <td>1</td>\n",
       "      <td>xxxxxxxxxx</td>\n",
       "      <td>2019_00217.csv</td>\n",
       "      <td>20.0</td>\n",
       "      <td>女性</td>\n",
       "      <td>0</td>\n",
       "    </tr>\n",
       "    <tr>\n",
       "      <td>2</td>\n",
       "      <td>xxxxxxxxxx</td>\n",
       "      <td>2019_00691.csv</td>\n",
       "      <td>20.0</td>\n",
       "      <td>女性</td>\n",
       "      <td>0</td>\n",
       "    </tr>\n",
       "    <tr>\n",
       "      <td>3</td>\n",
       "      <td>xxxxxxxxxx</td>\n",
       "      <td>2019_00204.csv</td>\n",
       "      <td>20.0</td>\n",
       "      <td>女性</td>\n",
       "      <td>0</td>\n",
       "    </tr>\n",
       "    <tr>\n",
       "      <td>4</td>\n",
       "      <td>yyyyyyyyyy</td>\n",
       "      <td>2019_00384.csv</td>\n",
       "      <td>70.0</td>\n",
       "      <td>女性</td>\n",
       "      <td>1</td>\n",
       "    </tr>\n",
       "  </tbody>\n",
       "</table>\n",
       "</div>"
      ],
      "text/plain": [
       "   patient_id        filename   age sex  target\n",
       "0  xxxxxxxxxx  2019_00364.csv  20.0  女性       0\n",
       "1  xxxxxxxxxx  2019_00217.csv  20.0  女性       0\n",
       "2  xxxxxxxxxx  2019_00691.csv  20.0  女性       0\n",
       "3  xxxxxxxxxx  2019_00204.csv  20.0  女性       0\n",
       "4  yyyyyyyyyy  2019_00384.csv  70.0  女性       1"
      ]
     },
     "execution_count": 11,
     "metadata": {},
     "output_type": "execute_result"
    }
   ],
   "source": [
    "df.head()"
   ]
  },
  {
   "cell_type": "code",
   "execution_count": 12,
   "metadata": {},
   "outputs": [],
   "source": [
    "def train_valid_test(df):\n",
    "    df_unique_patient_id = df[\"patient_id\"].value_counts().rename_axis('patient_id').reset_index(name='counts')\n",
    "    df_rand=pd.concat([df_unique_patient_id, pd.DataFrame( np.random.rand( len( df_unique_patient_id ) ), columns=['rand'] ) ], axis=1 )\n",
    "    df = pd.merge(df, df_rand, on='patient_id')\n",
    "    df.loc[df[\"rand\"] > 0.3, 'split'] = 'TRAIN'\n",
    "    df.loc[(df[\"rand\"] <= 0.3) & (df[\"rand\"] > 0.15), 'split'] = 'VALID'\n",
    "    df.loc[df[\"rand\"] <= 0.15, 'split'] = 'TEST'\n",
    "    print(df[\"split\"].value_counts())\n",
    "    return df"
   ]
  },
  {
   "cell_type": "code",
   "execution_count": 13,
   "metadata": {},
   "outputs": [
    {
     "name": "stdout",
     "output_type": "stream",
     "text": [
      "TRAIN    27\n",
      "TEST      6\n",
      "VALID     3\n",
      "Name: split, dtype: int64\n"
     ]
    }
   ],
   "source": [
    "df_split = train_valid_test(df)"
   ]
  },
  {
   "cell_type": "code",
   "execution_count": 14,
   "metadata": {},
   "outputs": [
    {
     "data": {
      "text/html": [
       "<div>\n",
       "<style scoped>\n",
       "    .dataframe tbody tr th:only-of-type {\n",
       "        vertical-align: middle;\n",
       "    }\n",
       "\n",
       "    .dataframe tbody tr th {\n",
       "        vertical-align: top;\n",
       "    }\n",
       "\n",
       "    .dataframe thead th {\n",
       "        text-align: right;\n",
       "    }\n",
       "</style>\n",
       "<table border=\"1\" class=\"dataframe\">\n",
       "  <thead>\n",
       "    <tr style=\"text-align: right;\">\n",
       "      <th></th>\n",
       "      <th>patient_id</th>\n",
       "      <th>filename</th>\n",
       "      <th>age</th>\n",
       "      <th>sex</th>\n",
       "      <th>target</th>\n",
       "      <th>counts</th>\n",
       "      <th>rand</th>\n",
       "      <th>split</th>\n",
       "    </tr>\n",
       "  </thead>\n",
       "  <tbody>\n",
       "    <tr>\n",
       "      <td>0</td>\n",
       "      <td>xxxxxxxxxx</td>\n",
       "      <td>2019_00364.csv</td>\n",
       "      <td>20.0</td>\n",
       "      <td>女性</td>\n",
       "      <td>0</td>\n",
       "      <td>4</td>\n",
       "      <td>0.645298</td>\n",
       "      <td>TRAIN</td>\n",
       "    </tr>\n",
       "    <tr>\n",
       "      <td>1</td>\n",
       "      <td>xxxxxxxxxx</td>\n",
       "      <td>2019_00217.csv</td>\n",
       "      <td>20.0</td>\n",
       "      <td>女性</td>\n",
       "      <td>0</td>\n",
       "      <td>4</td>\n",
       "      <td>0.645298</td>\n",
       "      <td>TRAIN</td>\n",
       "    </tr>\n",
       "    <tr>\n",
       "      <td>2</td>\n",
       "      <td>xxxxxxxxxx</td>\n",
       "      <td>2019_00691.csv</td>\n",
       "      <td>20.0</td>\n",
       "      <td>女性</td>\n",
       "      <td>0</td>\n",
       "      <td>4</td>\n",
       "      <td>0.645298</td>\n",
       "      <td>TRAIN</td>\n",
       "    </tr>\n",
       "    <tr>\n",
       "      <td>3</td>\n",
       "      <td>xxxxxxxxxx</td>\n",
       "      <td>2019_00204.csv</td>\n",
       "      <td>20.0</td>\n",
       "      <td>女性</td>\n",
       "      <td>0</td>\n",
       "      <td>4</td>\n",
       "      <td>0.645298</td>\n",
       "      <td>TRAIN</td>\n",
       "    </tr>\n",
       "    <tr>\n",
       "      <td>4</td>\n",
       "      <td>yyyyyyyyyy</td>\n",
       "      <td>2019_00384.csv</td>\n",
       "      <td>70.0</td>\n",
       "      <td>女性</td>\n",
       "      <td>1</td>\n",
       "      <td>3</td>\n",
       "      <td>0.436076</td>\n",
       "      <td>TRAIN</td>\n",
       "    </tr>\n",
       "  </tbody>\n",
       "</table>\n",
       "</div>"
      ],
      "text/plain": [
       "   patient_id        filename   age sex  target  counts      rand  split\n",
       "0  xxxxxxxxxx  2019_00364.csv  20.0  女性       0       4  0.645298  TRAIN\n",
       "1  xxxxxxxxxx  2019_00217.csv  20.0  女性       0       4  0.645298  TRAIN\n",
       "2  xxxxxxxxxx  2019_00691.csv  20.0  女性       0       4  0.645298  TRAIN\n",
       "3  xxxxxxxxxx  2019_00204.csv  20.0  女性       0       4  0.645298  TRAIN\n",
       "4  yyyyyyyyyy  2019_00384.csv  70.0  女性       1       3  0.436076  TRAIN"
      ]
     },
     "execution_count": 14,
     "metadata": {},
     "output_type": "execute_result"
    }
   ],
   "source": [
    "df_split.head()"
   ]
  },
  {
   "cell_type": "code",
   "execution_count": 15,
   "metadata": {},
   "outputs": [
    {
     "name": "stdout",
     "output_type": "stream",
     "text": [
      "Filelist saved\n"
     ]
    }
   ],
   "source": [
    "# check duplicate\n",
    "train_id = df_split[df_split[\"split\"] == \"TRAIN\"][\"patient_id\"].to_list()\n",
    "valid_id = df_split[df_split[\"split\"] == \"VALID\"][\"patient_id\"].to_list()\n",
    "test_id = df_split[df_split[\"split\"] == \"TEST\"][\"patient_id\"].to_list()\n",
    "\n",
    "if len(set(train_id) & set(valid_id)) > 0 or len(set(train_id) & set(test_id)) > 0 or len(set(test_id) & set(valid_id)) > 0:\n",
    "    print(\"Data duplicate......\")\n",
    "else:\n",
    "    print(\"Filelist saved\")\n",
    "    df_split = df_split[[\"filename\", \"patient_id\", \"age\", \"sex\", \"target\", \"split\"]]\n",
    "    df_split.to_csv(os.path.join('FileLists', 'FileList_{}.csv'.format(csv_filename.replace(\".csv\", \"\"))))\n",
    "    \n",
    "    "
   ]
  }
 ],
 "metadata": {
  "interpreter": {
   "hash": "950f718c2ab76b623073b445181650fdcf0e88ed68d63fbe3d877f48f0753a69"
  },
  "kernelspec": {
   "display_name": "Python 3",
   "language": "python",
   "name": "python3"
  },
  "language_info": {
   "codemirror_mode": {
    "name": "ipython",
    "version": 3
   },
   "file_extension": ".py",
   "mimetype": "text/x-python",
   "name": "python",
   "nbconvert_exporter": "python",
   "pygments_lexer": "ipython3",
   "version": "3.7.4"
  }
 },
 "nbformat": 4,
 "nbformat_minor": 2
}
