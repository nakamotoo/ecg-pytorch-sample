{
 "cells": [
  {
   "cell_type": "code",
   "execution_count": 1,
   "metadata": {},
   "outputs": [],
   "source": [
    "import pandas as pd\n",
    "import numpy as np\n",
    "import os"
   ]
  },
  {
   "cell_type": "code",
   "execution_count": 25,
   "metadata": {},
   "outputs": [],
   "source": [
    "# ここを適宜変える\n",
    "csv_filename = \"SAMPLE.csv\"\n",
    "\n",
    "df = pd.read_csv(os.path.join(\"Labels\", csv_filename), index_col=0)"
   ]
  },
  {
   "cell_type": "code",
   "execution_count": 26,
   "metadata": {},
   "outputs": [
    {
     "data": {
      "text/html": [
       "<div>\n",
       "<style scoped>\n",
       "    .dataframe tbody tr th:only-of-type {\n",
       "        vertical-align: middle;\n",
       "    }\n",
       "\n",
       "    .dataframe tbody tr th {\n",
       "        vertical-align: top;\n",
       "    }\n",
       "\n",
       "    .dataframe thead th {\n",
       "        text-align: right;\n",
       "    }\n",
       "</style>\n",
       "<table border=\"1\" class=\"dataframe\">\n",
       "  <thead>\n",
       "    <tr style=\"text-align: right;\">\n",
       "      <th></th>\n",
       "      <th>patient_id</th>\n",
       "      <th>filename</th>\n",
       "      <th>age</th>\n",
       "      <th>sex</th>\n",
       "      <th>target</th>\n",
       "    </tr>\n",
       "  </thead>\n",
       "  <tbody>\n",
       "    <tr>\n",
       "      <th>0</th>\n",
       "      <td>xxxxxxxxxx</td>\n",
       "      <td>2019_00364.csv</td>\n",
       "      <td>20.0</td>\n",
       "      <td>女性</td>\n",
       "      <td>0</td>\n",
       "    </tr>\n",
       "    <tr>\n",
       "      <th>1</th>\n",
       "      <td>xxxxxxxxxx</td>\n",
       "      <td>2019_00217.csv</td>\n",
       "      <td>20.0</td>\n",
       "      <td>女性</td>\n",
       "      <td>0</td>\n",
       "    </tr>\n",
       "    <tr>\n",
       "      <th>2</th>\n",
       "      <td>xxxxxxxxxx</td>\n",
       "      <td>2019_00691.csv</td>\n",
       "      <td>20.0</td>\n",
       "      <td>女性</td>\n",
       "      <td>0</td>\n",
       "    </tr>\n",
       "    <tr>\n",
       "      <th>3</th>\n",
       "      <td>xxxxxxxxxx</td>\n",
       "      <td>2019_00204.csv</td>\n",
       "      <td>20.0</td>\n",
       "      <td>女性</td>\n",
       "      <td>0</td>\n",
       "    </tr>\n",
       "    <tr>\n",
       "      <th>4</th>\n",
       "      <td>yyyyyyyyyy</td>\n",
       "      <td>2019_00384.csv</td>\n",
       "      <td>70.0</td>\n",
       "      <td>女性</td>\n",
       "      <td>1</td>\n",
       "    </tr>\n",
       "  </tbody>\n",
       "</table>\n",
       "</div>"
      ],
      "text/plain": [
       "   patient_id        filename   age sex  target\n",
       "0  xxxxxxxxxx  2019_00364.csv  20.0  女性       0\n",
       "1  xxxxxxxxxx  2019_00217.csv  20.0  女性       0\n",
       "2  xxxxxxxxxx  2019_00691.csv  20.0  女性       0\n",
       "3  xxxxxxxxxx  2019_00204.csv  20.0  女性       0\n",
       "4  yyyyyyyyyy  2019_00384.csv  70.0  女性       1"
      ]
     },
     "execution_count": 26,
     "metadata": {},
     "output_type": "execute_result"
    }
   ],
   "source": [
    "df.head()"
   ]
  },
  {
   "cell_type": "code",
   "execution_count": 27,
   "metadata": {},
   "outputs": [],
   "source": [
    "df_normal = df.query('target == 0')\n",
    "df_abnormal = df.query('target == 1')"
   ]
  },
  {
   "cell_type": "code",
   "execution_count": 28,
   "metadata": {},
   "outputs": [
    {
     "name": "stdout",
     "output_type": "stream",
     "text": [
      "(20, 5)\n",
      "(16, 5)\n"
     ]
    }
   ],
   "source": [
    "print(df_normal.shape)\n",
    "print(df_abnormal.shape)"
   ]
  },
  {
   "cell_type": "code",
   "execution_count": 29,
   "metadata": {},
   "outputs": [],
   "source": [
    "def train_valid_test(df):\n",
    "    df_unique_patient_id = df[\"patient_id\"].value_counts().rename_axis('patient_id').reset_index(name='counts')\n",
    "    df_rand=pd.concat([df_unique_patient_id, pd.DataFrame( np.random.rand( len( df_unique_patient_id ) ), columns=['rand'] ) ], axis=1 )\n",
    "    df = pd.merge(df, df_rand, on='patient_id')\n",
    "    df.loc[df[\"rand\"] > 0.3, 'split'] = 'TRAIN'\n",
    "    df.loc[(df[\"rand\"] <= 0.3) & (df[\"rand\"] > 0.15), 'split'] = 'VALID'\n",
    "    df.loc[df[\"rand\"] <= 0.15, 'split'] = 'TEST'\n",
    "    print(df[\"split\"].value_counts())\n",
    "    return df"
   ]
  },
  {
   "cell_type": "code",
   "execution_count": 30,
   "metadata": {},
   "outputs": [
    {
     "name": "stdout",
     "output_type": "stream",
     "text": [
      "TRAIN    11\n",
      "VALID     6\n",
      "TEST      3\n",
      "Name: split, dtype: int64\n"
     ]
    },
    {
     "data": {
      "text/html": [
       "<div>\n",
       "<style scoped>\n",
       "    .dataframe tbody tr th:only-of-type {\n",
       "        vertical-align: middle;\n",
       "    }\n",
       "\n",
       "    .dataframe tbody tr th {\n",
       "        vertical-align: top;\n",
       "    }\n",
       "\n",
       "    .dataframe thead th {\n",
       "        text-align: right;\n",
       "    }\n",
       "</style>\n",
       "<table border=\"1\" class=\"dataframe\">\n",
       "  <thead>\n",
       "    <tr style=\"text-align: right;\">\n",
       "      <th></th>\n",
       "      <th>patient_id</th>\n",
       "      <th>filename</th>\n",
       "      <th>age</th>\n",
       "      <th>sex</th>\n",
       "      <th>target</th>\n",
       "      <th>counts</th>\n",
       "      <th>rand</th>\n",
       "      <th>split</th>\n",
       "    </tr>\n",
       "  </thead>\n",
       "  <tbody>\n",
       "    <tr>\n",
       "      <th>0</th>\n",
       "      <td>xxxxxxxxxx</td>\n",
       "      <td>2019_00364.csv</td>\n",
       "      <td>20.0</td>\n",
       "      <td>女性</td>\n",
       "      <td>0</td>\n",
       "      <td>4</td>\n",
       "      <td>0.159047</td>\n",
       "      <td>VALID</td>\n",
       "    </tr>\n",
       "    <tr>\n",
       "      <th>1</th>\n",
       "      <td>xxxxxxxxxx</td>\n",
       "      <td>2019_00217.csv</td>\n",
       "      <td>20.0</td>\n",
       "      <td>女性</td>\n",
       "      <td>0</td>\n",
       "      <td>4</td>\n",
       "      <td>0.159047</td>\n",
       "      <td>VALID</td>\n",
       "    </tr>\n",
       "    <tr>\n",
       "      <th>2</th>\n",
       "      <td>xxxxxxxxxx</td>\n",
       "      <td>2019_00691.csv</td>\n",
       "      <td>20.0</td>\n",
       "      <td>女性</td>\n",
       "      <td>0</td>\n",
       "      <td>4</td>\n",
       "      <td>0.159047</td>\n",
       "      <td>VALID</td>\n",
       "    </tr>\n",
       "    <tr>\n",
       "      <th>3</th>\n",
       "      <td>xxxxxxxxxx</td>\n",
       "      <td>2019_00204.csv</td>\n",
       "      <td>20.0</td>\n",
       "      <td>女性</td>\n",
       "      <td>0</td>\n",
       "      <td>4</td>\n",
       "      <td>0.159047</td>\n",
       "      <td>VALID</td>\n",
       "    </tr>\n",
       "    <tr>\n",
       "      <th>4</th>\n",
       "      <td>zzzzzzzzzz</td>\n",
       "      <td>2019_00282.csv</td>\n",
       "      <td>30.0</td>\n",
       "      <td>男性</td>\n",
       "      <td>0</td>\n",
       "      <td>3</td>\n",
       "      <td>0.505219</td>\n",
       "      <td>TRAIN</td>\n",
       "    </tr>\n",
       "  </tbody>\n",
       "</table>\n",
       "</div>"
      ],
      "text/plain": [
       "   patient_id        filename   age sex  target  counts      rand  split\n",
       "0  xxxxxxxxxx  2019_00364.csv  20.0  女性       0       4  0.159047  VALID\n",
       "1  xxxxxxxxxx  2019_00217.csv  20.0  女性       0       4  0.159047  VALID\n",
       "2  xxxxxxxxxx  2019_00691.csv  20.0  女性       0       4  0.159047  VALID\n",
       "3  xxxxxxxxxx  2019_00204.csv  20.0  女性       0       4  0.159047  VALID\n",
       "4  zzzzzzzzzz  2019_00282.csv  30.0  男性       0       3  0.505219  TRAIN"
      ]
     },
     "execution_count": 30,
     "metadata": {},
     "output_type": "execute_result"
    }
   ],
   "source": [
    "df_normal = train_valid_test(df_normal)\n",
    "df_normal.head()"
   ]
  },
  {
   "cell_type": "code",
   "execution_count": 31,
   "metadata": {},
   "outputs": [
    {
     "name": "stdout",
     "output_type": "stream",
     "text": [
      "VALID    8\n",
      "TRAIN    6\n",
      "TEST     2\n",
      "Name: split, dtype: int64\n"
     ]
    },
    {
     "data": {
      "text/html": [
       "<div>\n",
       "<style scoped>\n",
       "    .dataframe tbody tr th:only-of-type {\n",
       "        vertical-align: middle;\n",
       "    }\n",
       "\n",
       "    .dataframe tbody tr th {\n",
       "        vertical-align: top;\n",
       "    }\n",
       "\n",
       "    .dataframe thead th {\n",
       "        text-align: right;\n",
       "    }\n",
       "</style>\n",
       "<table border=\"1\" class=\"dataframe\">\n",
       "  <thead>\n",
       "    <tr style=\"text-align: right;\">\n",
       "      <th></th>\n",
       "      <th>patient_id</th>\n",
       "      <th>filename</th>\n",
       "      <th>age</th>\n",
       "      <th>sex</th>\n",
       "      <th>target</th>\n",
       "      <th>counts</th>\n",
       "      <th>rand</th>\n",
       "      <th>split</th>\n",
       "    </tr>\n",
       "  </thead>\n",
       "  <tbody>\n",
       "    <tr>\n",
       "      <th>0</th>\n",
       "      <td>yyyyyyyyyy</td>\n",
       "      <td>2019_00384.csv</td>\n",
       "      <td>70.0</td>\n",
       "      <td>女性</td>\n",
       "      <td>1</td>\n",
       "      <td>3</td>\n",
       "      <td>0.172297</td>\n",
       "      <td>VALID</td>\n",
       "    </tr>\n",
       "    <tr>\n",
       "      <th>1</th>\n",
       "      <td>yyyyyyyyyy</td>\n",
       "      <td>2019_00733.csv</td>\n",
       "      <td>70.0</td>\n",
       "      <td>女性</td>\n",
       "      <td>1</td>\n",
       "      <td>3</td>\n",
       "      <td>0.172297</td>\n",
       "      <td>VALID</td>\n",
       "    </tr>\n",
       "    <tr>\n",
       "      <th>2</th>\n",
       "      <td>yyyyyyyyyy</td>\n",
       "      <td>2019_00039.csv</td>\n",
       "      <td>70.0</td>\n",
       "      <td>女性</td>\n",
       "      <td>1</td>\n",
       "      <td>3</td>\n",
       "      <td>0.172297</td>\n",
       "      <td>VALID</td>\n",
       "    </tr>\n",
       "    <tr>\n",
       "      <th>3</th>\n",
       "      <td>bbbbbbbbbb</td>\n",
       "      <td>2019_00645.csv</td>\n",
       "      <td>80.0</td>\n",
       "      <td>男性</td>\n",
       "      <td>1</td>\n",
       "      <td>2</td>\n",
       "      <td>0.554090</td>\n",
       "      <td>TRAIN</td>\n",
       "    </tr>\n",
       "    <tr>\n",
       "      <th>4</th>\n",
       "      <td>bbbbbbbbbb</td>\n",
       "      <td>2019_00041.csv</td>\n",
       "      <td>80.0</td>\n",
       "      <td>男性</td>\n",
       "      <td>1</td>\n",
       "      <td>2</td>\n",
       "      <td>0.554090</td>\n",
       "      <td>TRAIN</td>\n",
       "    </tr>\n",
       "  </tbody>\n",
       "</table>\n",
       "</div>"
      ],
      "text/plain": [
       "   patient_id        filename   age sex  target  counts      rand  split\n",
       "0  yyyyyyyyyy  2019_00384.csv  70.0  女性       1       3  0.172297  VALID\n",
       "1  yyyyyyyyyy  2019_00733.csv  70.0  女性       1       3  0.172297  VALID\n",
       "2  yyyyyyyyyy  2019_00039.csv  70.0  女性       1       3  0.172297  VALID\n",
       "3  bbbbbbbbbb  2019_00645.csv  80.0  男性       1       2  0.554090  TRAIN\n",
       "4  bbbbbbbbbb  2019_00041.csv  80.0  男性       1       2  0.554090  TRAIN"
      ]
     },
     "execution_count": 31,
     "metadata": {},
     "output_type": "execute_result"
    }
   ],
   "source": [
    "df_abnormal = train_valid_test(df_abnormal)\n",
    "df_abnormal.head()"
   ]
  },
  {
   "cell_type": "code",
   "execution_count": 32,
   "metadata": {},
   "outputs": [
    {
     "data": {
      "text/plain": [
       "TRAIN    17\n",
       "VALID    14\n",
       "TEST      5\n",
       "Name: split, dtype: int64"
      ]
     },
     "execution_count": 32,
     "metadata": {},
     "output_type": "execute_result"
    }
   ],
   "source": [
    "df = pd.concat([df_normal, df_abnormal], axis=0 )\n",
    "df[\"split\"].value_counts()"
   ]
  },
  {
   "cell_type": "code",
   "execution_count": 33,
   "metadata": {},
   "outputs": [
    {
     "data": {
      "text/html": [
       "<div>\n",
       "<style scoped>\n",
       "    .dataframe tbody tr th:only-of-type {\n",
       "        vertical-align: middle;\n",
       "    }\n",
       "\n",
       "    .dataframe tbody tr th {\n",
       "        vertical-align: top;\n",
       "    }\n",
       "\n",
       "    .dataframe thead th {\n",
       "        text-align: right;\n",
       "    }\n",
       "</style>\n",
       "<table border=\"1\" class=\"dataframe\">\n",
       "  <thead>\n",
       "    <tr style=\"text-align: right;\">\n",
       "      <th></th>\n",
       "      <th>filename</th>\n",
       "      <th>age</th>\n",
       "      <th>sex</th>\n",
       "      <th>target</th>\n",
       "      <th>split</th>\n",
       "    </tr>\n",
       "  </thead>\n",
       "  <tbody>\n",
       "    <tr>\n",
       "      <th>0</th>\n",
       "      <td>2019_00364.csv</td>\n",
       "      <td>20.0</td>\n",
       "      <td>女性</td>\n",
       "      <td>0</td>\n",
       "      <td>VALID</td>\n",
       "    </tr>\n",
       "    <tr>\n",
       "      <th>1</th>\n",
       "      <td>2019_00217.csv</td>\n",
       "      <td>20.0</td>\n",
       "      <td>女性</td>\n",
       "      <td>0</td>\n",
       "      <td>VALID</td>\n",
       "    </tr>\n",
       "    <tr>\n",
       "      <th>2</th>\n",
       "      <td>2019_00691.csv</td>\n",
       "      <td>20.0</td>\n",
       "      <td>女性</td>\n",
       "      <td>0</td>\n",
       "      <td>VALID</td>\n",
       "    </tr>\n",
       "    <tr>\n",
       "      <th>3</th>\n",
       "      <td>2019_00204.csv</td>\n",
       "      <td>20.0</td>\n",
       "      <td>女性</td>\n",
       "      <td>0</td>\n",
       "      <td>VALID</td>\n",
       "    </tr>\n",
       "    <tr>\n",
       "      <th>4</th>\n",
       "      <td>2019_00282.csv</td>\n",
       "      <td>30.0</td>\n",
       "      <td>男性</td>\n",
       "      <td>0</td>\n",
       "      <td>TRAIN</td>\n",
       "    </tr>\n",
       "  </tbody>\n",
       "</table>\n",
       "</div>"
      ],
      "text/plain": [
       "         filename   age sex  target  split\n",
       "0  2019_00364.csv  20.0  女性       0  VALID\n",
       "1  2019_00217.csv  20.0  女性       0  VALID\n",
       "2  2019_00691.csv  20.0  女性       0  VALID\n",
       "3  2019_00204.csv  20.0  女性       0  VALID\n",
       "4  2019_00282.csv  30.0  男性       0  TRAIN"
      ]
     },
     "execution_count": 33,
     "metadata": {},
     "output_type": "execute_result"
    }
   ],
   "source": [
    "df  = df.drop(columns=[\"patient_id\", \"counts\", \"rand\"])\n",
    "df.head()"
   ]
  },
  {
   "cell_type": "code",
   "execution_count": 34,
   "metadata": {},
   "outputs": [],
   "source": [
    "df.to_csv(os.path.join('FileLists', 'FileList_{}.csv'.format(csv_filename.replace(\".csv\", \"\"))))"
   ]
  },
  {
   "cell_type": "code",
   "execution_count": null,
   "metadata": {},
   "outputs": [],
   "source": []
  },
  {
   "cell_type": "code",
   "execution_count": null,
   "metadata": {},
   "outputs": [],
   "source": []
  }
 ],
 "metadata": {
  "interpreter": {
   "hash": "950f718c2ab76b623073b445181650fdcf0e88ed68d63fbe3d877f48f0753a69"
  },
  "kernelspec": {
   "display_name": "Python 3.9.4 64-bit ('annotate_ecg': conda)",
   "name": "python3"
  },
  "language_info": {
   "codemirror_mode": {
    "name": "ipython",
    "version": 3
   },
   "file_extension": ".py",
   "mimetype": "text/x-python",
   "name": "python",
   "nbconvert_exporter": "python",
   "pygments_lexer": "ipython3",
   "version": "3.8.5"
  }
 },
 "nbformat": 4,
 "nbformat_minor": 2
}